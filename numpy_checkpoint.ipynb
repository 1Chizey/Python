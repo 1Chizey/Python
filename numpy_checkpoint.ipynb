{
 "cells": [
  {
   "cell_type": "code",
   "execution_count": 1,
   "id": "d7145b82-b1b0-434c-a8a8-372b56fa6a4f",
   "metadata": {},
   "outputs": [],
   "source": [
    "import numpy as np"
   ]
  },
  {
   "cell_type": "code",
   "execution_count": 5,
   "id": "38d862e7-b05a-47f9-a271-021ec0226b2d",
   "metadata": {},
   "outputs": [],
   "source": [
    "grades = np.array([85, 90, 88, 92, 95, 80, 75, 98, 89, 83])"
   ]
  },
  {
   "cell_type": "code",
   "execution_count": 7,
   "id": "3295b340-91a8-4d87-8c63-683e163b4d47",
   "metadata": {},
   "outputs": [
    {
     "name": "stdout",
     "output_type": "stream",
     "text": [
      "87.5\n"
     ]
    }
   ],
   "source": [
    "# mean\n",
    "print(np.mean(grades))"
   ]
  },
  {
   "cell_type": "code",
   "execution_count": 9,
   "id": "7b05bb6e-f17c-4723-98db-654d68a00851",
   "metadata": {},
   "outputs": [
    {
     "name": "stdout",
     "output_type": "stream",
     "text": [
      "88.5\n"
     ]
    }
   ],
   "source": [
    "# meadian\n",
    "print(np.median(grades))"
   ]
  },
  {
   "cell_type": "code",
   "execution_count": 11,
   "id": "0d0ebbc0-242b-4d6e-a01e-d94f1d711e30",
   "metadata": {},
   "outputs": [
    {
     "name": "stdout",
     "output_type": "stream",
     "text": [
      "6.591661399070799\n"
     ]
    }
   ],
   "source": [
    "# standard deviation\n",
    "print(np.std(grades))"
   ]
  },
  {
   "cell_type": "code",
   "execution_count": 13,
   "id": "4e564cc0-3d6e-4603-937d-b0d1956979e5",
   "metadata": {},
   "outputs": [
    {
     "name": "stdout",
     "output_type": "stream",
     "text": [
      "6.591661399070799\n"
     ]
    }
   ],
   "source": [
    "print(grades.std())"
   ]
  },
  {
   "cell_type": "code",
   "execution_count": 15,
   "id": "12bb002d-b413-451f-835f-68fc0cac4fab",
   "metadata": {},
   "outputs": [
    {
     "name": "stdout",
     "output_type": "stream",
     "text": [
      "75\n"
     ]
    }
   ],
   "source": [
    "# min\n",
    "print(np.min(grades))"
   ]
  },
  {
   "cell_type": "code",
   "execution_count": 17,
   "id": "78862f04-7411-42e8-8b9d-da983506ea58",
   "metadata": {},
   "outputs": [
    {
     "name": "stdout",
     "output_type": "stream",
     "text": [
      "98\n"
     ]
    }
   ],
   "source": [
    "# Max\n",
    "print(np.max(grades))"
   ]
  },
  {
   "cell_type": "code",
   "execution_count": 19,
   "id": "bd90e0fd-20a7-46ce-8a78-7910c878d8a9",
   "metadata": {},
   "outputs": [
    {
     "name": "stdout",
     "output_type": "stream",
     "text": [
      "[75 80 83 85 88 89 90 92 95 98]\n"
     ]
    }
   ],
   "source": [
    "#How to sort\n",
    "grades.sort()\n",
    "print(grades)"
   ]
  },
  {
   "cell_type": "code",
   "execution_count": 27,
   "id": "2c8bee27-9efa-45e9-b3aa-088e217cb001",
   "metadata": {},
   "outputs": [
    {
     "name": "stdout",
     "output_type": "stream",
     "text": [
      "98\n"
     ]
    }
   ],
   "source": [
    "# numpy aggregate Max\n",
    "print(grades[9])"
   ]
  },
  {
   "cell_type": "code",
   "execution_count": 31,
   "id": "ae780604-875e-457b-9eaf-4935462b8342",
   "metadata": {},
   "outputs": [
    {
     "name": "stdout",
     "output_type": "stream",
     "text": [
      "9\n"
     ]
    }
   ],
   "source": [
    "print(grades.argmax())"
   ]
  },
  {
   "cell_type": "code",
   "execution_count": 33,
   "id": "8c86dff1-e4d1-45bf-b329-8a26acbcbf17",
   "metadata": {},
   "outputs": [
    {
     "name": "stdout",
     "output_type": "stream",
     "text": [
      "0\n"
     ]
    }
   ],
   "source": [
    "# numpy aggreagte min\n",
    "print(grades.argmin())"
   ]
  },
  {
   "cell_type": "code",
   "execution_count": 35,
   "id": "89bbea46-e0b4-4b8e-b309-d44e8286d52a",
   "metadata": {},
   "outputs": [
    {
     "name": "stdout",
     "output_type": "stream",
     "text": [
      "75\n"
     ]
    }
   ],
   "source": [
    "print(grades[0])"
   ]
  },
  {
   "cell_type": "code",
   "execution_count": 47,
   "id": "ec52a7c9-7f89-4a07-9a5c-a04fc9716015",
   "metadata": {},
   "outputs": [
    {
     "name": "stdout",
     "output_type": "stream",
     "text": [
      "3\n"
     ]
    }
   ],
   "source": [
    "# Finding students that score above 90\n",
    "greater_than_90 = np.where(grades > 90)\n",
    "\n",
    "print(np.count_nonzero(greater_than_90))"
   ]
  },
  {
   "cell_type": "code",
   "execution_count": 53,
   "id": "38202a79-3091-4aa9-a218-fcd14a813793",
   "metadata": {},
   "outputs": [
    {
     "name": "stdout",
     "output_type": "stream",
     "text": [
      "30.0\n"
     ]
    }
   ],
   "source": [
    "print(np.mean(grades>90)*100)"
   ]
  },
  {
   "cell_type": "code",
   "execution_count": 55,
   "id": "cd4c871d-6496-4918-8996-931e2651af53",
   "metadata": {},
   "outputs": [
    {
     "name": "stdout",
     "output_type": "stream",
     "text": [
      "9\n"
     ]
    }
   ],
   "source": [
    "# Finding students that score above 75\n",
    "greater_than_75 = np.where(grades > 75)\n",
    "\n",
    "print(np.count_nonzero(greater_than_75))"
   ]
  },
  {
   "cell_type": "code",
   "execution_count": 57,
   "id": "a0ae398b-4ef2-4fc8-8641-b846be5c1a4c",
   "metadata": {},
   "outputs": [
    {
     "name": "stdout",
     "output_type": "stream",
     "text": [
      "90.0\n"
     ]
    }
   ],
   "source": [
    "print(np.mean(grades>75)*100)"
   ]
  },
  {
   "cell_type": "code",
   "execution_count": 59,
   "id": "27f3f7d2-4053-4872-ab2b-4fb5d94ccf32",
   "metadata": {},
   "outputs": [
    {
     "name": "stdout",
     "output_type": "stream",
     "text": [
      "[92 95 98]\n"
     ]
    }
   ],
   "source": [
    "high_perfomers = grades[grades > 90]\n",
    "print(high_perfomers)"
   ]
  },
  {
   "cell_type": "code",
   "execution_count": 61,
   "id": "26a5c411-c967-44d7-8452-46881eabba50",
   "metadata": {},
   "outputs": [
    {
     "name": "stdout",
     "output_type": "stream",
     "text": [
      "[80 83 85 88 89 90 92 95 98]\n"
     ]
    }
   ],
   "source": [
    "passing_grades = grades[grades > 75]\n",
    "print(passing_grades)"
   ]
  },
  {
   "cell_type": "code",
   "execution_count": null,
   "id": "710e26d9-5746-48b7-8ef5-b5d435d9fbf6",
   "metadata": {},
   "outputs": [],
   "source": []
  }
 ],
 "metadata": {
  "kernelspec": {
   "display_name": "Python [conda env:base] *",
   "language": "python",
   "name": "conda-base-py"
  },
  "language_info": {
   "codemirror_mode": {
    "name": "ipython",
    "version": 3
   },
   "file_extension": ".py",
   "mimetype": "text/x-python",
   "name": "python",
   "nbconvert_exporter": "python",
   "pygments_lexer": "ipython3",
   "version": "3.12.7"
  }
 },
 "nbformat": 4,
 "nbformat_minor": 5
}
